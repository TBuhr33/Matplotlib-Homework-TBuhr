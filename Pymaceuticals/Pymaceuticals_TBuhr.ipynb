{
 "cells": [
  {
   "cell_type": "markdown",
   "metadata": {},
   "source": [
    "## Observations and Insights"
   ]
  },
  {
   "cell_type": "markdown",
   "metadata": {},
   "source": [
    "1.  Based on the correlation coefficient, Mouse weight and average tumor size are strongly correlated, with a value of .84, meaning that larger mice have larger tumors (at least for the capomulin treatment) which makes logical sense.  \n",
    "\n",
    "2.  Mice in the Infubinol and Ceftamin regimen appeared to have larger final tumor size, which could indicate that these treatments were not as effective as the Capomulin and Ramicane treatment groups.  HOwver, without further analysis into the average change of each treatments tumor size from the initial size, making a definitive conclusion is not possible.  The effectivness of treatment should be based on overall tumor change, not on just final size, as initial tumor volume does vary as well. \n",
    "\n",
    "3.  For the Capomulin Treatment over time, the tumor shrunk ~8.2mm3 in the first 10 days of treatment, and then 8.4mm3 over the remaining 35 days, which indicates the treatment is most effective in the initial days of the regimen, before leveling off to a more consistent decline of tumor size.  If other regimens also show similar initial response, may be effective to cycle the different regimens ~every 10 days to increase rate of tumor shrinking. "
   ]
  },
  {
   "cell_type": "markdown",
   "metadata": {},
   "source": [
    "## Dependencies and starter code"
   ]
  },
  {
   "cell_type": "code",
   "execution_count": 2,
   "metadata": {},
   "outputs": [
    {
     "data": {
      "text/html": [
       "<div>\n",
       "<style scoped>\n",
       "    .dataframe tbody tr th:only-of-type {\n",
       "        vertical-align: middle;\n",
       "    }\n",
       "\n",
       "    .dataframe tbody tr th {\n",
       "        vertical-align: top;\n",
       "    }\n",
       "\n",
       "    .dataframe thead th {\n",
       "        text-align: right;\n",
       "    }\n",
       "</style>\n",
       "<table border=\"1\" class=\"dataframe\">\n",
       "  <thead>\n",
       "    <tr style=\"text-align: right;\">\n",
       "      <th></th>\n",
       "      <th>Mouse ID</th>\n",
       "      <th>Drug Regimen</th>\n",
       "      <th>Sex</th>\n",
       "      <th>Age_months</th>\n",
       "      <th>Weight (g)</th>\n",
       "      <th>Timepoint</th>\n",
       "      <th>Tumor Volume (mm3)</th>\n",
       "      <th>Metastatic Sites</th>\n",
       "    </tr>\n",
       "  </thead>\n",
       "  <tbody>\n",
       "    <tr>\n",
       "      <td>0</td>\n",
       "      <td>k403</td>\n",
       "      <td>Ramicane</td>\n",
       "      <td>Male</td>\n",
       "      <td>21</td>\n",
       "      <td>16</td>\n",
       "      <td>0</td>\n",
       "      <td>45.000000</td>\n",
       "      <td>0</td>\n",
       "    </tr>\n",
       "    <tr>\n",
       "      <td>1</td>\n",
       "      <td>k403</td>\n",
       "      <td>Ramicane</td>\n",
       "      <td>Male</td>\n",
       "      <td>21</td>\n",
       "      <td>16</td>\n",
       "      <td>5</td>\n",
       "      <td>38.825898</td>\n",
       "      <td>0</td>\n",
       "    </tr>\n",
       "    <tr>\n",
       "      <td>2</td>\n",
       "      <td>k403</td>\n",
       "      <td>Ramicane</td>\n",
       "      <td>Male</td>\n",
       "      <td>21</td>\n",
       "      <td>16</td>\n",
       "      <td>10</td>\n",
       "      <td>35.014271</td>\n",
       "      <td>1</td>\n",
       "    </tr>\n",
       "    <tr>\n",
       "      <td>3</td>\n",
       "      <td>k403</td>\n",
       "      <td>Ramicane</td>\n",
       "      <td>Male</td>\n",
       "      <td>21</td>\n",
       "      <td>16</td>\n",
       "      <td>15</td>\n",
       "      <td>34.223992</td>\n",
       "      <td>1</td>\n",
       "    </tr>\n",
       "    <tr>\n",
       "      <td>4</td>\n",
       "      <td>k403</td>\n",
       "      <td>Ramicane</td>\n",
       "      <td>Male</td>\n",
       "      <td>21</td>\n",
       "      <td>16</td>\n",
       "      <td>20</td>\n",
       "      <td>32.997729</td>\n",
       "      <td>1</td>\n",
       "    </tr>\n",
       "  </tbody>\n",
       "</table>\n",
       "</div>"
      ],
      "text/plain": [
       "  Mouse ID Drug Regimen   Sex  Age_months  Weight (g)  Timepoint  \\\n",
       "0     k403     Ramicane  Male          21          16          0   \n",
       "1     k403     Ramicane  Male          21          16          5   \n",
       "2     k403     Ramicane  Male          21          16         10   \n",
       "3     k403     Ramicane  Male          21          16         15   \n",
       "4     k403     Ramicane  Male          21          16         20   \n",
       "\n",
       "   Tumor Volume (mm3)  Metastatic Sites  \n",
       "0           45.000000                 0  \n",
       "1           38.825898                 0  \n",
       "2           35.014271                 1  \n",
       "3           34.223992                 1  \n",
       "4           32.997729                 1  "
      ]
     },
     "execution_count": 2,
     "metadata": {},
     "output_type": "execute_result"
    }
   ],
   "source": [
    "# Dependencies and Setup\n",
    "import matplotlib.pyplot as plt\n",
    "import pandas as pd\n",
    "import scipy.stats as st\n",
    "import numpy as np\n",
    "\n",
    "# Study data files\n",
    "mouse_metadata = \"Mouse_metadata.csv\"\n",
    "study_results = \"Study_results.csv\"\n",
    "\n",
    "# Read the mouse data and the study results\n",
    "mouse_metadata = pd.read_csv(mouse_metadata)\n",
    "study_results = pd.read_csv(study_results)\n",
    "\n",
    "# Combine the data into a single dataset\n",
    "complete_data = pd.merge(mouse_metadata, study_results, how = \"left\", on = [\"Mouse ID\", \"Mouse ID\"])\n",
    "\n",
    "complete_data.head()"
   ]
  },
  {
   "cell_type": "markdown",
   "metadata": {},
   "source": [
    "## Summary statistics"
   ]
  },
  {
   "cell_type": "code",
   "execution_count": 3,
   "metadata": {},
   "outputs": [
    {
     "data": {
      "text/html": [
       "<div>\n",
       "<style scoped>\n",
       "    .dataframe tbody tr th:only-of-type {\n",
       "        vertical-align: middle;\n",
       "    }\n",
       "\n",
       "    .dataframe tbody tr th {\n",
       "        vertical-align: top;\n",
       "    }\n",
       "\n",
       "    .dataframe thead th {\n",
       "        text-align: right;\n",
       "    }\n",
       "</style>\n",
       "<table border=\"1\" class=\"dataframe\">\n",
       "  <thead>\n",
       "    <tr style=\"text-align: right;\">\n",
       "      <th></th>\n",
       "      <th>Mean TV</th>\n",
       "      <th>Median TV</th>\n",
       "      <th>TV Variance</th>\n",
       "      <th>TV StdDev</th>\n",
       "      <th>TV SEM</th>\n",
       "    </tr>\n",
       "    <tr>\n",
       "      <th>Drug Regimen</th>\n",
       "      <th></th>\n",
       "      <th></th>\n",
       "      <th></th>\n",
       "      <th></th>\n",
       "      <th></th>\n",
       "    </tr>\n",
       "  </thead>\n",
       "  <tbody>\n",
       "    <tr>\n",
       "      <td>Capomulin</td>\n",
       "      <td>40.675741</td>\n",
       "      <td>41.557809</td>\n",
       "      <td>24.947764</td>\n",
       "      <td>4.994774</td>\n",
       "      <td>0.329346</td>\n",
       "    </tr>\n",
       "    <tr>\n",
       "      <td>Ceftamin</td>\n",
       "      <td>52.591172</td>\n",
       "      <td>51.776157</td>\n",
       "      <td>39.290177</td>\n",
       "      <td>6.268188</td>\n",
       "      <td>0.469821</td>\n",
       "    </tr>\n",
       "    <tr>\n",
       "      <td>Infubinol</td>\n",
       "      <td>52.884795</td>\n",
       "      <td>51.820584</td>\n",
       "      <td>43.128684</td>\n",
       "      <td>6.567243</td>\n",
       "      <td>0.492236</td>\n",
       "    </tr>\n",
       "    <tr>\n",
       "      <td>Ketapril</td>\n",
       "      <td>55.235638</td>\n",
       "      <td>53.698743</td>\n",
       "      <td>68.553577</td>\n",
       "      <td>8.279709</td>\n",
       "      <td>0.603860</td>\n",
       "    </tr>\n",
       "    <tr>\n",
       "      <td>Naftisol</td>\n",
       "      <td>54.331565</td>\n",
       "      <td>52.509285</td>\n",
       "      <td>66.173479</td>\n",
       "      <td>8.134708</td>\n",
       "      <td>0.596466</td>\n",
       "    </tr>\n",
       "    <tr>\n",
       "      <td>Placebo</td>\n",
       "      <td>54.033581</td>\n",
       "      <td>52.288934</td>\n",
       "      <td>61.168083</td>\n",
       "      <td>7.821003</td>\n",
       "      <td>0.581331</td>\n",
       "    </tr>\n",
       "    <tr>\n",
       "      <td>Propriva</td>\n",
       "      <td>52.322552</td>\n",
       "      <td>50.854632</td>\n",
       "      <td>42.351070</td>\n",
       "      <td>6.507770</td>\n",
       "      <td>0.512884</td>\n",
       "    </tr>\n",
       "    <tr>\n",
       "      <td>Ramicane</td>\n",
       "      <td>40.216745</td>\n",
       "      <td>40.673236</td>\n",
       "      <td>23.486704</td>\n",
       "      <td>4.846308</td>\n",
       "      <td>0.320955</td>\n",
       "    </tr>\n",
       "    <tr>\n",
       "      <td>Stelasyn</td>\n",
       "      <td>54.233149</td>\n",
       "      <td>52.431737</td>\n",
       "      <td>59.450562</td>\n",
       "      <td>7.710419</td>\n",
       "      <td>0.573111</td>\n",
       "    </tr>\n",
       "    <tr>\n",
       "      <td>Zoniferol</td>\n",
       "      <td>53.236507</td>\n",
       "      <td>51.818479</td>\n",
       "      <td>48.533355</td>\n",
       "      <td>6.966589</td>\n",
       "      <td>0.516398</td>\n",
       "    </tr>\n",
       "  </tbody>\n",
       "</table>\n",
       "</div>"
      ],
      "text/plain": [
       "                Mean TV  Median TV  TV Variance  TV StdDev    TV SEM\n",
       "Drug Regimen                                                        \n",
       "Capomulin     40.675741  41.557809    24.947764   4.994774  0.329346\n",
       "Ceftamin      52.591172  51.776157    39.290177   6.268188  0.469821\n",
       "Infubinol     52.884795  51.820584    43.128684   6.567243  0.492236\n",
       "Ketapril      55.235638  53.698743    68.553577   8.279709  0.603860\n",
       "Naftisol      54.331565  52.509285    66.173479   8.134708  0.596466\n",
       "Placebo       54.033581  52.288934    61.168083   7.821003  0.581331\n",
       "Propriva      52.322552  50.854632    42.351070   6.507770  0.512884\n",
       "Ramicane      40.216745  40.673236    23.486704   4.846308  0.320955\n",
       "Stelasyn      54.233149  52.431737    59.450562   7.710419  0.573111\n",
       "Zoniferol     53.236507  51.818479    48.533355   6.966589  0.516398"
      ]
     },
     "execution_count": 3,
     "metadata": {},
     "output_type": "execute_result"
    }
   ],
   "source": [
    "# Generate a summary statistics table of mean, median, variance, standard deviation, and SEM of the tumor volume for each regimen\n",
    "#group the data by the drug regimen\n",
    "small_group = complete_data.groupby(['Drug Regimen'])['Tumor Volume (mm3)']\n",
    "\n",
    "#mean creation\n",
    "mean_df = small_group.mean()\n",
    "mean_df = pd.DataFrame(mean_df)\n",
    "#mean_df\n",
    "\n",
    "#median creation\n",
    "median_df = small_group.median()\n",
    "median_df = pd.DataFrame(median_df)\n",
    "#median_df\n",
    "\n",
    "#variance creation\n",
    "variance_df = small_group.var()\n",
    "variance_df = pd.DataFrame(variance_df)\n",
    "#variance_df\n",
    "\n",
    "#Standard deviation creation\n",
    "stddev_df = small_group.std()\n",
    "stddev_df = pd.DataFrame(stddev_df)\n",
    "#stddev_df\n",
    "\n",
    "#SEM Creation\n",
    "sem_df = small_group.sem()\n",
    "sem_df = pd.DataFrame(sem_df)\n",
    "#sem_df\n",
    "\n",
    "#merging of df to one table, found on stackoverflow, link:https://stackoverflow.com/questions/44327999/python-pandas-merge-multiple-dataframes\n",
    "data_frames = [mean_df, median_df, variance_df, stddev_df, sem_df]\n",
    "summ_df = pd.concat(data_frames, join='outer', axis=1)\n",
    "summ_df.columns = [\"Mean TV\", \"Median TV\", \"TV Variance\", \"TV StdDev\", \"TV SEM\"]\n",
    "summ_df\n",
    "\n",
    "\n",
    "\n",
    "\n",
    "\n",
    "\n"
   ]
  },
  {
   "cell_type": "markdown",
   "metadata": {},
   "source": [
    "## Bar plots"
   ]
  },
  {
   "cell_type": "code",
   "execution_count": 4,
   "metadata": {},
   "outputs": [
    {
     "data": {
      "text/plain": [
       "(array([0, 1, 2, 3, 4, 5, 6, 7, 8, 9]), <a list of 10 Text xticklabel objects>)"
      ]
     },
     "execution_count": 4,
     "metadata": {},
     "output_type": "execute_result"
    },
    {
     "data": {
      "image/png": "[encoded data removed]",
      "text/plain": [
       "<Figure size 432x288 with 1 Axes>"
      ]
     },
     "metadata": {
      "needs_background": "light"
     },
     "output_type": "display_data"
    }
   ],
   "source": [
    "# Generate a bar plot showing number of data points for each treatment regimen using pandas\n",
    "#create df \n",
    "data_points_df = pd.DataFrame(complete_data['Drug Regimen'].value_counts())\n",
    "#plot the dataframe and format the plot\n",
    "data_points_df.plot.bar(y = 'Drug Regimen', width = 0.5, color = 'aqua')\n",
    "plt.title(\"# of Data Points Taken by Drug Regimen\")\n",
    "plt.xlabel(\"Drug Regimen\")\n",
    "plt.ylabel(\"# of Data Points Taken\")\n",
    "plt.xlim(-1,10)\n",
    "plt.ylim(0,250)\n",
    "plt.legend().set_visible(False)\n",
    "plt.xticks(rotation = 45)"
   ]
  },
  {
   "cell_type": "code",
   "execution_count": 5,
   "metadata": {},
   "outputs": [
    {
     "data": {
      "text/plain": [
       "([0, 1, 2, 3, 4, 5, 6, 7, 8, 9], <a list of 10 Text xticklabel objects>)"
      ]
     },
     "execution_count": 5,
     "metadata": {},
     "output_type": "execute_result"
    },
    {
     "data": {
      "image/png": "[encoded data removed]",
      "text/plain": [
       "<Figure size 432x288 with 1 Axes>"
      ]
     },
     "metadata": {
      "needs_background": "light"
     },
     "output_type": "display_data"
    }
   ],
   "source": [
    "# Generate a bar plot showing number of data points for each treatment regimen using pyplot\n",
    "plt.bar(data_points_df.index, data_points_df['Drug Regimen'], width = 0.5, color = 'lightskyblue')\n",
    "plt.title(\"# of Data Points Taken by Drug Regimen\")\n",
    "plt.xlabel(\"Drug Regimen\")\n",
    "plt.ylabel(\"# of Data Points Taken\")\n",
    "plt.xlim(-1,10)\n",
    "plt.ylim(0,250)\n",
    "plt.xticks(rotation = 45)"
   ]
  },
  {
   "cell_type": "markdown",
   "metadata": {},
   "source": [
    "## Pie plots"
   ]
  },
  {
   "cell_type": "code",
   "execution_count": 6,
   "metadata": {},
   "outputs": [
    {
     "data": {
      "text/plain": [
       "Text(0, 0.5, ' ')"
      ]
     },
     "execution_count": 6,
     "metadata": {},
     "output_type": "execute_result"
    },
    {
     "data": {
      "image/png": "[encoded data removed]",
      "text/plain": [
       "<Figure size 432x288 with 1 Axes>"
      ]
     },
     "metadata": {},
     "output_type": "display_data"
    }
   ],
   "source": [
    "# Generate a pie plot showing the distribution of female versus male mice using pandas\n",
    "#group the data by gender\n",
    "gender_df = complete_data.groupby(['Sex'])['Mouse ID'].count()\n",
    "#create the plot\n",
    "pie_plot = gender_df.plot.pie(autopct=\"%1.1f%%\", startangle=0, colors=['pink', 'b'])\n",
    "plt.title(\"Percentage of Male vs. Femal Mice SUbjects\")\n",
    "plt.ylabel(' ')"
   ]
  },
  {
   "cell_type": "code",
   "execution_count": 7,
   "metadata": {},
   "outputs": [
    {
     "data": {
      "text/plain": [
       "Text(0.5, 1.0, 'Percentage of Male vs. Femal Mice SUbjects')"
      ]
     },
     "execution_count": 7,
     "metadata": {},
     "output_type": "execute_result"
    },
    {
     "data": {
      "image/png": "[encoded data removed]",
      "text/plain": [
       "<Figure size 432x288 with 1 Axes>"
      ]
     },
     "metadata": {},
     "output_type": "display_data"
    }
   ],
   "source": [
    "# Generate a pie plot showing the distribution of female versus male mice using pyplot\n",
    "plt.pie(gender_df, labels = gender_df.index, autopct=\"%1.1f%%\", startangle=0, colors=['crimson', 'teal'])\n",
    "plt.title(\"Percentage of Male vs. Femal Mice SUbjects\")"
   ]
  },
  {
   "cell_type": "markdown",
   "metadata": {},
   "source": [
    "## Quartiles, outliers and boxplots"
   ]
  },
  {
   "cell_type": "markdown",
   "metadata": {},
   "source": [
    "Tumor Volume of Top 4 Treatments"
   ]
  },
  {
   "cell_type": "code",
   "execution_count": 8,
   "metadata": {},
   "outputs": [
    {
     "data": {
      "text/html": [
       "<div>\n",
       "<style scoped>\n",
       "    .dataframe tbody tr th:only-of-type {\n",
       "        vertical-align: middle;\n",
       "    }\n",
       "\n",
       "    .dataframe tbody tr th {\n",
       "        vertical-align: top;\n",
       "    }\n",
       "\n",
       "    .dataframe thead th {\n",
       "        text-align: right;\n",
       "    }\n",
       "</style>\n",
       "<table border=\"1\" class=\"dataframe\">\n",
       "  <thead>\n",
       "    <tr style=\"text-align: right;\">\n",
       "      <th></th>\n",
       "      <th>Mouse ID</th>\n",
       "      <th>Drug Regimen</th>\n",
       "      <th>Sex</th>\n",
       "      <th>Age_months</th>\n",
       "      <th>Weight (g)</th>\n",
       "      <th>Timepoint</th>\n",
       "      <th>Tumor Volume (mm3)</th>\n",
       "      <th>Metastatic Sites</th>\n",
       "    </tr>\n",
       "  </thead>\n",
       "  <tbody>\n",
       "    <tr>\n",
       "      <td>0</td>\n",
       "      <td>k403</td>\n",
       "      <td>Ramicane</td>\n",
       "      <td>Male</td>\n",
       "      <td>21</td>\n",
       "      <td>16</td>\n",
       "      <td>45</td>\n",
       "      <td>22.050126</td>\n",
       "      <td>1</td>\n",
       "    </tr>\n",
       "    <tr>\n",
       "      <td>1</td>\n",
       "      <td>s185</td>\n",
       "      <td>Capomulin</td>\n",
       "      <td>Female</td>\n",
       "      <td>3</td>\n",
       "      <td>17</td>\n",
       "      <td>45</td>\n",
       "      <td>23.343598</td>\n",
       "      <td>1</td>\n",
       "    </tr>\n",
       "    <tr>\n",
       "      <td>2</td>\n",
       "      <td>x401</td>\n",
       "      <td>Capomulin</td>\n",
       "      <td>Female</td>\n",
       "      <td>16</td>\n",
       "      <td>15</td>\n",
       "      <td>45</td>\n",
       "      <td>28.484033</td>\n",
       "      <td>0</td>\n",
       "    </tr>\n",
       "    <tr>\n",
       "      <td>3</td>\n",
       "      <td>m601</td>\n",
       "      <td>Capomulin</td>\n",
       "      <td>Male</td>\n",
       "      <td>22</td>\n",
       "      <td>17</td>\n",
       "      <td>45</td>\n",
       "      <td>28.430964</td>\n",
       "      <td>1</td>\n",
       "    </tr>\n",
       "    <tr>\n",
       "      <td>4</td>\n",
       "      <td>g791</td>\n",
       "      <td>Ramicane</td>\n",
       "      <td>Male</td>\n",
       "      <td>11</td>\n",
       "      <td>16</td>\n",
       "      <td>45</td>\n",
       "      <td>29.128472</td>\n",
       "      <td>1</td>\n",
       "    </tr>\n",
       "    <tr>\n",
       "      <td>...</td>\n",
       "      <td>...</td>\n",
       "      <td>...</td>\n",
       "      <td>...</td>\n",
       "      <td>...</td>\n",
       "      <td>...</td>\n",
       "      <td>...</td>\n",
       "      <td>...</td>\n",
       "      <td>...</td>\n",
       "    </tr>\n",
       "    <tr>\n",
       "      <td>95</td>\n",
       "      <td>x822</td>\n",
       "      <td>Ceftamin</td>\n",
       "      <td>Male</td>\n",
       "      <td>3</td>\n",
       "      <td>29</td>\n",
       "      <td>45</td>\n",
       "      <td>61.386660</td>\n",
       "      <td>3</td>\n",
       "    </tr>\n",
       "    <tr>\n",
       "      <td>96</td>\n",
       "      <td>y163</td>\n",
       "      <td>Infubinol</td>\n",
       "      <td>Female</td>\n",
       "      <td>17</td>\n",
       "      <td>27</td>\n",
       "      <td>45</td>\n",
       "      <td>67.685569</td>\n",
       "      <td>3</td>\n",
       "    </tr>\n",
       "    <tr>\n",
       "      <td>97</td>\n",
       "      <td>y769</td>\n",
       "      <td>Ceftamin</td>\n",
       "      <td>Female</td>\n",
       "      <td>6</td>\n",
       "      <td>27</td>\n",
       "      <td>45</td>\n",
       "      <td>68.594745</td>\n",
       "      <td>4</td>\n",
       "    </tr>\n",
       "    <tr>\n",
       "      <td>98</td>\n",
       "      <td>y865</td>\n",
       "      <td>Ceftamin</td>\n",
       "      <td>Male</td>\n",
       "      <td>23</td>\n",
       "      <td>26</td>\n",
       "      <td>45</td>\n",
       "      <td>64.729837</td>\n",
       "      <td>3</td>\n",
       "    </tr>\n",
       "    <tr>\n",
       "      <td>99</td>\n",
       "      <td>z581</td>\n",
       "      <td>Infubinol</td>\n",
       "      <td>Female</td>\n",
       "      <td>24</td>\n",
       "      <td>25</td>\n",
       "      <td>45</td>\n",
       "      <td>62.754451</td>\n",
       "      <td>3</td>\n",
       "    </tr>\n",
       "  </tbody>\n",
       "</table>\n",
       "<p>100 rows × 8 columns</p>\n",
       "</div>"
      ],
      "text/plain": [
       "   Mouse ID Drug Regimen     Sex  Age_months  Weight (g)  Timepoint  \\\n",
       "0      k403     Ramicane    Male          21          16         45   \n",
       "1      s185    Capomulin  Female           3          17         45   \n",
       "2      x401    Capomulin  Female          16          15         45   \n",
       "3      m601    Capomulin    Male          22          17         45   \n",
       "4      g791     Ramicane    Male          11          16         45   \n",
       "..      ...          ...     ...         ...         ...        ...   \n",
       "95     x822     Ceftamin    Male           3          29         45   \n",
       "96     y163    Infubinol  Female          17          27         45   \n",
       "97     y769     Ceftamin  Female           6          27         45   \n",
       "98     y865     Ceftamin    Male          23          26         45   \n",
       "99     z581    Infubinol  Female          24          25         45   \n",
       "\n",
       "    Tumor Volume (mm3)  Metastatic Sites  \n",
       "0            22.050126                 1  \n",
       "1            23.343598                 1  \n",
       "2            28.484033                 0  \n",
       "3            28.430964                 1  \n",
       "4            29.128472                 1  \n",
       "..                 ...               ...  \n",
       "95           61.386660                 3  \n",
       "96           67.685569                 3  \n",
       "97           68.594745                 4  \n",
       "98           64.729837                 3  \n",
       "99           62.754451                 3  \n",
       "\n",
       "[100 rows x 8 columns]"
      ]
     },
     "execution_count": 8,
     "metadata": {},
     "output_type": "execute_result"
    }
   ],
   "source": [
    "# Calculate the final tumor volume of each mouse across four of the most promising treatment regimens.\n",
    "#dataframe for the 4 called drug regimens\n",
    "top_4_df = complete_data[(complete_data['Drug Regimen'] == 'Capomulin') | (complete_data['Drug Regimen'] == 'Ramicane') |\n",
    "                 (complete_data['Drug Regimen'] == 'Infubinol')| (complete_data['Drug Regimen'] == 'Ceftamin')]\n",
    "\n",
    "#dataframe group for the last (aka max) timepoint of the 4 drugs\n",
    "final_time = top_4_df.groupby(['Drug Regimen', 'Mouse ID'])['Timepoint'].max()\n",
    "final_time_df = pd.DataFrame(final_time)\n",
    "\n",
    "#merge the two dfs to get the tumor size at last timepoint\n",
    "final_size_df = top_4_df.merge(final_time_df, on = ['Drug Regimen', 'Mouse ID', 'Timepoint'], how = 'inner')\n",
    "final_size_df"
   ]
  },
  {
   "cell_type": "markdown",
   "metadata": {},
   "source": [
    "Capomulin Quartiles, IQR, and Ouliers"
   ]
  },
  {
   "cell_type": "code",
   "execution_count": 9,
   "metadata": {},
   "outputs": [
    {
     "name": "stdout",
     "output_type": "stream",
     "text": [
      "Capomulin Final Tumor size, lower quartile: 32.37735684\n",
      "Capomulin Final Tumor size, upper quartile: 40.1592203\n",
      "Capomulin Interquartile Range: 7.781863460000004\n",
      "Capomulin Median Final Tumor Size: 38.125164399999996 \n",
      "Values below 20.70456164999999 could be outliers.\n",
      "Values above 51.83201549 could be outliers.\n",
      "There are 0 outliers in the Capomulin Subjects.\n"
     ]
    }
   ],
   "source": [
    "#set up the capomulin dataframe \n",
    "capo_df = final_size_df[(final_size_df['Drug Regimen'] == 'Capomulin')]\n",
    "\n",
    "#set the quartile ranges\n",
    "capo_quart = capo_df['Tumor Volume (mm3)'].quantile([0.25,0.5,0.75])\n",
    "lowerq = capo_quart[0.25]\n",
    "upperq = capo_quart[0.75] \n",
    "iqr = upperq-lowerq\n",
    "\n",
    "#print statements\n",
    "print(f\"Capomulin Final Tumor size, lower quartile: {lowerq}\")\n",
    "print(f\"Capomulin Final Tumor size, upper quartile: {upperq}\")\n",
    "print(f\"Capomulin Interquartile Range: {iqr}\")\n",
    "print(f\"Capomulin Median Final Tumor Size: {capo_quart[0.5]} \")\n",
    "\n",
    "#find potential outlier ranges\n",
    "lower_bound = lowerq - (1.5*iqr)\n",
    "upper_bound = upperq + (1.5*iqr)\n",
    "\n",
    "#print outlier statements\n",
    "print(f\"Values below {lower_bound} could be outliers.\")\n",
    "print(f\"Values above {upper_bound} could be outliers.\")\n",
    "\n",
    "#calculate and find outliers and also print\n",
    "capo_outlier = capo_df[(capo_df['Tumor Volume (mm3)'] < lower_bound) | (capo_df['Tumor Volume (mm3)'] > upper_bound)]\n",
    "print(f\"There are {len(capo_outlier)} outliers in the Capomulin Subjects.\")"
   ]
  },
  {
   "cell_type": "markdown",
   "metadata": {},
   "source": [
    "Ramicane Quartiles, IQR, and Ouliers"
   ]
  },
  {
   "cell_type": "code",
   "execution_count": 10,
   "metadata": {},
   "outputs": [
    {
     "name": "stdout",
     "output_type": "stream",
     "text": [
      "Ramicane Final Tumor size, lower quartile: 31.56046955\n",
      "Ramicane Final Tumor size, upper quartile: 40.65900627\n",
      "Ramicane Interquartile Range: 9.098536719999998\n",
      "Ramicane Median Final Tumor Size: 36.56165229 \n",
      "Values below 17.912664470000003 could be outliers.\n",
      "Values above 54.30681135 could be outliers.\n",
      "There are 0 outliers in the Ramicane Subjects.\n"
     ]
    }
   ],
   "source": [
    "#set up the ramicane dataframe \n",
    "ram_df = final_size_df[(final_size_df['Drug Regimen'] == 'Ramicane')]\n",
    "\n",
    "#set the quartile ranges\n",
    "ram_quart = ram_df['Tumor Volume (mm3)'].quantile([0.25,0.5,0.75])\n",
    "lowerq = ram_quart[0.25]\n",
    "upperq = ram_quart[0.75] \n",
    "iqr = upperq-lowerq\n",
    "\n",
    "#print statements\n",
    "print(f\"Ramicane Final Tumor size, lower quartile: {lowerq}\")\n",
    "print(f\"Ramicane Final Tumor size, upper quartile: {upperq}\")\n",
    "print(f\"Ramicane Interquartile Range: {iqr}\")\n",
    "print(f\"Ramicane Median Final Tumor Size: {ram_quart[0.5]} \")\n",
    "\n",
    "#find potential outlier ranges\n",
    "lower_bound = lowerq - (1.5*iqr)\n",
    "upper_bound = upperq + (1.5*iqr)\n",
    "\n",
    "#print outlier statements\n",
    "print(f\"Values below {lower_bound} could be outliers.\")\n",
    "print(f\"Values above {upper_bound} could be outliers.\")\n",
    "\n",
    "#calculate and find outliers and also print\n",
    "ram_outlier = ram_df[(ram_df['Tumor Volume (mm3)'] < lower_bound) | (ram_df['Tumor Volume (mm3)'] > upper_bound)]\n",
    "print(f\"There are {len(ram_outlier)} outliers in the Ramicane Subjects.\")"
   ]
  },
  {
   "cell_type": "markdown",
   "metadata": {},
   "source": [
    "Infubinol Quartiles, IQR, and Ouliers "
   ]
  },
  {
   "cell_type": "code",
   "execution_count": 11,
   "metadata": {},
   "outputs": [
    {
     "name": "stdout",
     "output_type": "stream",
     "text": [
      "Infubinol Final Tumor size, lower quartile: 54.04860769\n",
      "Infubinol Final Tumor size, upper quartile: 65.52574285\n",
      "Infubinol Interquartile Range: 11.477135160000003\n",
      "Infubinol Median Final Tumor Size: 60.16518046 \n",
      "Values below 36.83290494999999 could be outliers.\n",
      "Values above 82.74144559000001 could be outliers.\n",
      "There are 1 outliers in the Infubinol Subjects.\n"
     ]
    }
   ],
   "source": [
    "#set up the infubinol dataframe \n",
    "inf_df = final_size_df[(final_size_df['Drug Regimen'] == 'Infubinol')]\n",
    "\n",
    "#set the quartile ranges\n",
    "inf_quart = inf_df['Tumor Volume (mm3)'].quantile([0.25,0.5,0.75])\n",
    "lowerq = inf_quart[0.25]\n",
    "upperq = inf_quart[0.75] \n",
    "iqr = upperq-lowerq\n",
    "\n",
    "#print statements\n",
    "print(f\"Infubinol Final Tumor size, lower quartile: {lowerq}\")\n",
    "print(f\"Infubinol Final Tumor size, upper quartile: {upperq}\")\n",
    "print(f\"Infubinol Interquartile Range: {iqr}\")\n",
    "print(f\"Infubinol Median Final Tumor Size: {inf_quart[0.5]} \")\n",
    "\n",
    "#find potential outlier ranges\n",
    "lower_bound = lowerq - (1.5*iqr)\n",
    "upper_bound = upperq + (1.5*iqr)\n",
    "\n",
    "#print outlier statements\n",
    "print(f\"Values below {lower_bound} could be outliers.\")\n",
    "print(f\"Values above {upper_bound} could be outliers.\")\n",
    "\n",
    "#calculate and find outliers and also print\n",
    "inf_outlier = inf_df[(inf_df['Tumor Volume (mm3)'] < lower_bound) | (inf_df['Tumor Volume (mm3)'] > upper_bound)]\n",
    "print(f\"There are {len(inf_outlier)} outliers in the Infubinol Subjects.\")"
   ]
  },
  {
   "cell_type": "markdown",
   "metadata": {},
   "source": [
    "Ceftamin Quartiles, IQR, and Ouliers "
   ]
  },
  {
   "cell_type": "code",
   "execution_count": 12,
   "metadata": {},
   "outputs": [
    {
     "name": "stdout",
     "output_type": "stream",
     "text": [
      "Ceftamin Final Tumor size, lower quartile: 48.72207785\n",
      "Ceftamin Final Tumor size, upper quartile: 64.29983003\n",
      "Ceftamin Interquartile Range: 15.577752179999997\n",
      "Ceftamin Median Final Tumor Size: 59.85195552 \n",
      "Values below 25.355449580000002 could be outliers.\n",
      "Values above 87.66645829999999 could be outliers.\n",
      "There are 0 outliers in the Ceftamin Subjects.\n"
     ]
    }
   ],
   "source": [
    "#set up the Ceftamin dataframe \n",
    "cef_df = final_size_df[(final_size_df['Drug Regimen'] == 'Ceftamin')]\n",
    "\n",
    "#set the quartile ranges\n",
    "cef_quart = cef_df['Tumor Volume (mm3)'].quantile([0.25,0.5,0.75])\n",
    "lowerq = cef_quart[0.25]\n",
    "upperq = cef_quart[0.75] \n",
    "iqr = upperq-lowerq\n",
    "\n",
    "#print statements\n",
    "print(f\"Ceftamin Final Tumor size, lower quartile: {lowerq}\")\n",
    "print(f\"Ceftamin Final Tumor size, upper quartile: {upperq}\")\n",
    "print(f\"Ceftamin Interquartile Range: {iqr}\")\n",
    "print(f\"Ceftamin Median Final Tumor Size: {cef_quart[0.5]} \")\n",
    "\n",
    "#find potential outlier ranges\n",
    "lower_bound = lowerq - (1.5*iqr)\n",
    "upper_bound = upperq + (1.5*iqr)\n",
    "\n",
    "#print outlier statements\n",
    "print(f\"Values below {lower_bound} could be outliers.\")\n",
    "print(f\"Values above {upper_bound} could be outliers.\")\n",
    "\n",
    "#calculate and find outliers and also print\n",
    "cef_outlier = cef_df[(cef_df['Tumor Volume (mm3)'] < lower_bound) | (cef_df['Tumor Volume (mm3)'] > upper_bound)]\n",
    "print(f\"There are {len(cef_outlier)} outliers in the Ceftamin Subjects.\")"
   ]
  },
  {
   "cell_type": "markdown",
   "metadata": {},
   "source": [
    "Box Plot Comparison of the 4 Most Promising Drug Regimen's"
   ]
  },
  {
   "cell_type": "code",
   "execution_count": 13,
   "metadata": {},
   "outputs": [
    {
     "data": {
      "text/plain": [
       "Text(0.5, 1.0, \"Comparison of Final Tumor Sizes Amongst 4 Most Promising Drug Regimen's \")"
      ]
     },
     "execution_count": 13,
     "metadata": {},
     "output_type": "execute_result"
    },
    {
     "data": {
      "image/png": "[encoded data removed]",
      "text/plain": [
       "<Figure size 720x720 with 1 Axes>"
      ]
     },
     "metadata": {
      "needs_background": "light"
     },
     "output_type": "display_data"
    }
   ],
   "source": [
    "# Generate a box plot of the final tumor volume of each mouse across four regimens of interest\n",
    "#data frames:: capo_df, ram_df, inf_df, and cef_df\n",
    "#identify the data frames to be plotted \n",
    "box_data = [capo_df['Tumor Volume (mm3)'], ram_df['Tumor Volume (mm3)'], inf_df['Tumor Volume (mm3)'], cef_df['Tumor Volume (mm3)']]\n",
    "\n",
    "#setup the plot; outlier marks,median lines, figure setup, format axes, labels, etc. \n",
    "outliers = dict(markerfacecolor = 'aqua', marker = 'o')\n",
    "medians = dict(linestyle = '-', linewidth = 2, color = 'aqua')\n",
    "figure = plt.figure(figsize=(10,10))\n",
    "axes = figure.add_subplot()\n",
    "box_plot = axes.boxplot(box_data, flierprops = outliers, medianprops = medians)\n",
    "plt.ylim(0,100)\n",
    "plt.yticks(fontsize = '10')\n",
    "plt.xticks(range(1,5), labels = (\"Capomulin\", \"Ramicane\", \"Infubinol\", \"Ceftamin\"), fontsize = '10')\n",
    "plt.ylabel(\"Tumor volume (mm3)\", fontsize = '12')\n",
    "plt.xlabel(\"Drug Regimen\", fontsize = '12')\n",
    "plt.title(\"Comparison of Final Tumor Sizes Amongst 4 Most Promising Drug Regimen's \", fontsize = '15')\n"
   ]
  },
  {
   "cell_type": "markdown",
   "metadata": {},
   "source": [
    "## Line and scatter plots"
   ]
  },
  {
   "cell_type": "markdown",
   "metadata": {},
   "source": [
    "Data From Mouse ID m601"
   ]
  },
  {
   "cell_type": "code",
   "execution_count": 14,
   "metadata": {},
   "outputs": [
    {
     "data": {
      "image/png": "[encoded data removed]",
      "text/plain": [
       "<Figure size 432x288 with 1 Axes>"
      ]
     },
     "metadata": {
      "needs_background": "light"
     },
     "output_type": "display_data"
    }
   ],
   "source": [
    "# Generate a line plot of time point versus tumor volume for a mouse treated with Capomulin\n",
    "#pull out the specific m601 data from the complete df\n",
    "m601_data = complete_data[(complete_data['Drug Regimen'] == 'Capomulin') & (complete_data['Mouse ID'] == 'm601')]\n",
    "\n",
    "\n",
    "#create line plot \n",
    "plt.plot(m601_data['Timepoint'], m601_data['Tumor Volume (mm3)'], label = \"Tumor Volume\", color = 'aqua', marker = '^')\n",
    "plt.xlabel('Days')\n",
    "plt.ylabel('Tumor Volume (mm3)')\n",
    "plt.title('Tumor Size Over Course of Treatment with Capomulin for Mouse m601')\n",
    "plt.xlim(-5,50)\n",
    "plt.legend(framealpha = 0.5, loc = 'best')\n",
    "plt.grid(b = None, which = 'major', axis = 'y', alpha = 0.5)"
   ]
  },
  {
   "cell_type": "code",
   "execution_count": 15,
   "metadata": {},
   "outputs": [
    {
     "data": {
      "text/html": [
       "<div>\n",
       "<style scoped>\n",
       "    .dataframe tbody tr th:only-of-type {\n",
       "        vertical-align: middle;\n",
       "    }\n",
       "\n",
       "    .dataframe tbody tr th {\n",
       "        vertical-align: top;\n",
       "    }\n",
       "\n",
       "    .dataframe thead th {\n",
       "        text-align: right;\n",
       "    }\n",
       "</style>\n",
       "<table border=\"1\" class=\"dataframe\">\n",
       "  <thead>\n",
       "    <tr style=\"text-align: right;\">\n",
       "      <th></th>\n",
       "      <th>Mouse ID</th>\n",
       "      <th>Drug Regimen</th>\n",
       "      <th>Sex</th>\n",
       "      <th>Age_months</th>\n",
       "      <th>Weight (g)</th>\n",
       "      <th>Timepoint</th>\n",
       "      <th>Tumor Volume (mm3)</th>\n",
       "      <th>Metastatic Sites</th>\n",
       "    </tr>\n",
       "  </thead>\n",
       "  <tbody>\n",
       "    <tr>\n",
       "      <td>30</td>\n",
       "      <td>m601</td>\n",
       "      <td>Capomulin</td>\n",
       "      <td>Male</td>\n",
       "      <td>22</td>\n",
       "      <td>17</td>\n",
       "      <td>0</td>\n",
       "      <td>45.000000</td>\n",
       "      <td>0</td>\n",
       "    </tr>\n",
       "    <tr>\n",
       "      <td>31</td>\n",
       "      <td>m601</td>\n",
       "      <td>Capomulin</td>\n",
       "      <td>Male</td>\n",
       "      <td>22</td>\n",
       "      <td>17</td>\n",
       "      <td>5</td>\n",
       "      <td>41.408591</td>\n",
       "      <td>1</td>\n",
       "    </tr>\n",
       "    <tr>\n",
       "      <td>32</td>\n",
       "      <td>m601</td>\n",
       "      <td>Capomulin</td>\n",
       "      <td>Male</td>\n",
       "      <td>22</td>\n",
       "      <td>17</td>\n",
       "      <td>10</td>\n",
       "      <td>36.825367</td>\n",
       "      <td>1</td>\n",
       "    </tr>\n",
       "    <tr>\n",
       "      <td>33</td>\n",
       "      <td>m601</td>\n",
       "      <td>Capomulin</td>\n",
       "      <td>Male</td>\n",
       "      <td>22</td>\n",
       "      <td>17</td>\n",
       "      <td>15</td>\n",
       "      <td>35.464612</td>\n",
       "      <td>1</td>\n",
       "    </tr>\n",
       "    <tr>\n",
       "      <td>34</td>\n",
       "      <td>m601</td>\n",
       "      <td>Capomulin</td>\n",
       "      <td>Male</td>\n",
       "      <td>22</td>\n",
       "      <td>17</td>\n",
       "      <td>20</td>\n",
       "      <td>34.255732</td>\n",
       "      <td>1</td>\n",
       "    </tr>\n",
       "    <tr>\n",
       "      <td>35</td>\n",
       "      <td>m601</td>\n",
       "      <td>Capomulin</td>\n",
       "      <td>Male</td>\n",
       "      <td>22</td>\n",
       "      <td>17</td>\n",
       "      <td>25</td>\n",
       "      <td>33.118756</td>\n",
       "      <td>1</td>\n",
       "    </tr>\n",
       "    <tr>\n",
       "      <td>36</td>\n",
       "      <td>m601</td>\n",
       "      <td>Capomulin</td>\n",
       "      <td>Male</td>\n",
       "      <td>22</td>\n",
       "      <td>17</td>\n",
       "      <td>30</td>\n",
       "      <td>31.758275</td>\n",
       "      <td>1</td>\n",
       "    </tr>\n",
       "    <tr>\n",
       "      <td>37</td>\n",
       "      <td>m601</td>\n",
       "      <td>Capomulin</td>\n",
       "      <td>Male</td>\n",
       "      <td>22</td>\n",
       "      <td>17</td>\n",
       "      <td>35</td>\n",
       "      <td>30.834357</td>\n",
       "      <td>1</td>\n",
       "    </tr>\n",
       "    <tr>\n",
       "      <td>38</td>\n",
       "      <td>m601</td>\n",
       "      <td>Capomulin</td>\n",
       "      <td>Male</td>\n",
       "      <td>22</td>\n",
       "      <td>17</td>\n",
       "      <td>40</td>\n",
       "      <td>31.378045</td>\n",
       "      <td>1</td>\n",
       "    </tr>\n",
       "    <tr>\n",
       "      <td>39</td>\n",
       "      <td>m601</td>\n",
       "      <td>Capomulin</td>\n",
       "      <td>Male</td>\n",
       "      <td>22</td>\n",
       "      <td>17</td>\n",
       "      <td>45</td>\n",
       "      <td>28.430964</td>\n",
       "      <td>1</td>\n",
       "    </tr>\n",
       "  </tbody>\n",
       "</table>\n",
       "</div>"
      ],
      "text/plain": [
       "   Mouse ID Drug Regimen   Sex  Age_months  Weight (g)  Timepoint  \\\n",
       "30     m601    Capomulin  Male          22          17          0   \n",
       "31     m601    Capomulin  Male          22          17          5   \n",
       "32     m601    Capomulin  Male          22          17         10   \n",
       "33     m601    Capomulin  Male          22          17         15   \n",
       "34     m601    Capomulin  Male          22          17         20   \n",
       "35     m601    Capomulin  Male          22          17         25   \n",
       "36     m601    Capomulin  Male          22          17         30   \n",
       "37     m601    Capomulin  Male          22          17         35   \n",
       "38     m601    Capomulin  Male          22          17         40   \n",
       "39     m601    Capomulin  Male          22          17         45   \n",
       "\n",
       "    Tumor Volume (mm3)  Metastatic Sites  \n",
       "30           45.000000                 0  \n",
       "31           41.408591                 1  \n",
       "32           36.825367                 1  \n",
       "33           35.464612                 1  \n",
       "34           34.255732                 1  \n",
       "35           33.118756                 1  \n",
       "36           31.758275                 1  \n",
       "37           30.834357                 1  \n",
       "38           31.378045                 1  \n",
       "39           28.430964                 1  "
      ]
     },
     "execution_count": 15,
     "metadata": {},
     "output_type": "execute_result"
    }
   ],
   "source": [
    "m601_data"
   ]
  },
  {
   "cell_type": "markdown",
   "metadata": {},
   "source": [
    "All Mouse Weights vs. Tumor Size "
   ]
  },
  {
   "cell_type": "code",
   "execution_count": 16,
   "metadata": {},
   "outputs": [
    {
     "data": {
      "text/plain": [
       "(32, 47)"
      ]
     },
     "execution_count": 16,
     "metadata": {},
     "output_type": "execute_result"
    },
    {
     "data": {
      "image/png": "[encoded data removed]",
      "text/plain": [
       "<Figure size 432x288 with 1 Axes>"
      ]
     },
     "metadata": {
      "needs_background": "light"
     },
     "output_type": "display_data"
    }
   ],
   "source": [
    "# Generate a scatter plot of mouse weight versus average tumor volume for the Capomulin regimen\n",
    "#get a dataframe for all mouse weights in the capomulin regimen\n",
    "capo_weight = complete_data[complete_data['Drug Regimen'] == 'Capomulin']\n",
    "\n",
    "#group the data by tumor size and mouse weights\n",
    "capo_group = capo_weight.groupby('Mouse ID')['Tumor Volume (mm3)', 'Weight (g)'].mean()\n",
    "\n",
    "#assign the weights and create average tumor size \n",
    "mouse_weight = capo_group['Weight (g)']\n",
    "avg_tumor = capo_group['Tumor Volume (mm3)']\n",
    "\n",
    "#create the scatter plot\n",
    "plt.scatter(mouse_weight, avg_tumor, color = 'aqua', marker = '^') \n",
    "plt.ylabel(\"Average Tumor Volume (mm3)\")\n",
    "plt.xlabel(\"Weight (g)\")\n",
    "plt.title(\"Average Tumor Volume by Mouse Weight in the Capomulin Regimen\")\n",
    "plt.xticks(range(10,30))\n",
    "plt.grid(b = None, which = 'major', axis = 'y', alpha = 0.5)\n",
    "plt.xlim(14,27)\n",
    "plt.ylim(32,47)"
   ]
  },
  {
   "cell_type": "code",
   "execution_count": 17,
   "metadata": {},
   "outputs": [
    {
     "name": "stdout",
     "output_type": "stream",
     "text": [
      "The Correlation Between Mouse Weight and Average Tumor Size is 0.8419363424694717\n",
      "The Equation for the Linear Regression Line is y=0.954x+21.552\n"
     ]
    },
    {
     "data": {
      "image/png": "[encoded data removed]",
      "text/plain": [
       "<Figure size 432x288 with 1 Axes>"
      ]
     },
     "metadata": {
      "needs_background": "light"
     },
     "output_type": "display_data"
    }
   ],
   "source": [
    "# Calculate the correlation coefficient and linear regression model for mouse weight and average tumor volume for the Capomulin regimen\n",
    "#correlation coeffecient\n",
    "corr_coeff = st.pearsonr(mouse_weight, avg_tumor)\n",
    "print(f\"The Correlation Between Mouse Weight and Average Tumor Size is {corr_coeff[0]}\")\n",
    "\n",
    "#linear regression \n",
    "#import the linregress module \n",
    "from scipy.stats import linregress\n",
    "(slope, intercept, rvalue, pvalue, stderr) = linregress(mouse_weight, avg_tumor)\n",
    "values = (mouse_weight)*(slope) + intercept\n",
    "equation = \"y=\" + str(round(slope,3)) + \"x+\" + str(round(intercept,3))\n",
    "\n",
    "#repeat scatterplot above but add in the regression line and display equation\n",
    "capo_weight = complete_data[complete_data['Drug Regimen'] == 'Capomulin']\n",
    "capo_group = capo_weight.groupby('Mouse ID')['Tumor Volume (mm3)', 'Weight (g)'].mean()\n",
    "mouse_weight = capo_group['Weight (g)']\n",
    "avg_tumor = capo_group['Tumor Volume (mm3)']\n",
    "plt.scatter(mouse_weight, avg_tumor, color = 'aqua', marker = '^') \n",
    "plt.ylabel(\"Average Tumor Volume (mm3)\")\n",
    "plt.xlabel(\"Weight (g)\")\n",
    "plt.title(\"Average Tumor Volume by Mouse Weight in the Capomulin Regimen\")\n",
    "plt.xticks(range(10,30))\n",
    "plt.grid(b = None, which = 'major', axis = 'y', alpha = 0.5)\n",
    "plt.xlim(14,27)\n",
    "plt.ylim(32,47)\n",
    "plt.plot(mouse_weight, values, \"-\", color = 'purple')\n",
    "print(f\"The Equation for the Linear Regression Line is {equation}\")"
   ]
  }
 ],
 "metadata": {
  "anaconda-cloud": {},
  "kernelspec": {
   "display_name": "Python 3",
   "language": "python",
   "name": "python3"
  },
  "language_info": {
   "codemirror_mode": {
    "name": "ipython",
    "version": 3
   },
   "file_extension": ".py",
   "mimetype": "text/x-python",
   "name": "python",
   "nbconvert_exporter": "python",
   "pygments_lexer": "ipython3",
   "version": "3.7.4"
  }
 },
 "nbformat": 4,
 "nbformat_minor": 2
}
